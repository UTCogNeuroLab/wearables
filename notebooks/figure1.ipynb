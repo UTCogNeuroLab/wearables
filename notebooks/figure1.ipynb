{
 "cells": [
  {
   "cell_type": "code",
   "execution_count": 1,
   "metadata": {},
   "outputs": [],
   "source": [
    "import numpy as np\n",
    "import pandas as pd\n",
    "import datetime as dt\n",
    "import glob\n",
    "\n",
    "%matplotlib inline\n",
    "import matplotlib.pyplot as plt\n",
    "\n",
    "from matplotlib import rcParams\n",
    "rcParams['figure.figsize'] = (10, 8)\n",
    "rcParams['legend.fontsize'] = 16\n",
    "rcParams['axes.labelsize'] = 16\n",
    "plt.rcParams['axes.prop_cycle'] = plt.cycler(color=plt.cm.Set1.colors)\n",
    "plt.style.use('seaborn-dark')"
   ]
  },
  {
   "cell_type": "code",
   "execution_count": 51,
   "metadata": {},
   "outputs": [],
   "source": [
    "subject = 40861"
   ]
  },
  {
   "cell_type": "code",
   "execution_count": 52,
   "metadata": {
    "scrolled": true
   },
   "outputs": [
    {
     "data": {
      "text/html": [
       "<div>\n",
       "<style scoped>\n",
       "    .dataframe tbody tr th:only-of-type {\n",
       "        vertical-align: middle;\n",
       "    }\n",
       "\n",
       "    .dataframe tbody tr th {\n",
       "        vertical-align: top;\n",
       "    }\n",
       "\n",
       "    .dataframe thead th {\n",
       "        text-align: right;\n",
       "    }\n",
       "</style>\n",
       "<table border=\"1\" class=\"dataframe\">\n",
       "  <thead>\n",
       "    <tr style=\"text-align: right;\">\n",
       "      <th></th>\n",
       "      <th>actmin</th>\n",
       "      <th>actamp</th>\n",
       "      <th>actalph</th>\n",
       "      <th>actbeta</th>\n",
       "      <th>actphi</th>\n",
       "    </tr>\n",
       "  </thead>\n",
       "  <tbody>\n",
       "    <tr>\n",
       "      <th>16</th>\n",
       "      <td>0.114951</td>\n",
       "      <td>1.120207</td>\n",
       "      <td>-0.756889</td>\n",
       "      <td>3.531025</td>\n",
       "      <td>12.103077</td>\n",
       "    </tr>\n",
       "  </tbody>\n",
       "</table>\n",
       "</div>"
      ],
      "text/plain": [
       "      actmin    actamp   actalph   actbeta     actphi\n",
       "16  0.114951  1.120207 -0.756889  3.531025  12.103077"
      ]
     },
     "execution_count": 52,
     "metadata": {},
     "output_type": "execute_result"
    }
   ],
   "source": [
    "cr = pd.read_csv('/Users/megmcmahon/Box/CogNeuroLab/Aging Decision Making R01/data/actigraphy/circadian_measures/7_days/cr_7days.csv')\n",
    "cr[cr['record_id'] == subject][['actmin', 'actamp', 'actalph', 'actbeta', 'actphi']]\n"
   ]
  },
  {
   "cell_type": "code",
   "execution_count": 53,
   "metadata": {},
   "outputs": [],
   "source": [
    "def read_actig(file): \n",
    "    # actigraphy input file is a file with two columns, Time (\"%Y-%m-%d %H:%M:%S\") and Activity, with no header\n",
    "    \n",
    "    data = pd.read_csv(file, sep = \",\", header = None, names = ['time', 'activity'])\n",
    "    data['time'] = data.values[:,0].astype(str)\n",
    "    data['clocktime'] = [int(dt.datetime.strptime(x, \"%Y-%m-%d %H:%M:%S\").time().strftime(\"%H\")) + (int(dt.datetime.strptime(x, \"%Y-%m-%d %H:%M:%S\").time().strftime(\"%M\"))/60) for x in data['time']]\n",
    "    data = data.groupby('clocktime').max()\n",
    "    data['lmaxact'] = np.log10(data['activity'] + 1)\n",
    "    return data"
   ]
  },
  {
   "cell_type": "code",
   "execution_count": 54,
   "metadata": {},
   "outputs": [],
   "source": [
    "act = read_actig(\"/Users/megmcmahon/Box/CogNeuroLab/Aging Decision Making R01/Data/Actigraphy/processed_2020-06-17/%s.csv\" % subject)\n",
    "x_act = act.index.values\n",
    "y_act = act.lmaxact\n"
   ]
  },
  {
   "cell_type": "code",
   "execution_count": 55,
   "metadata": {},
   "outputs": [
    {
     "data": {
      "text/html": [
       "<div>\n",
       "<style scoped>\n",
       "    .dataframe tbody tr th:only-of-type {\n",
       "        vertical-align: middle;\n",
       "    }\n",
       "\n",
       "    .dataframe tbody tr th {\n",
       "        vertical-align: top;\n",
       "    }\n",
       "\n",
       "    .dataframe thead th {\n",
       "        text-align: right;\n",
       "    }\n",
       "</style>\n",
       "<table border=\"1\" class=\"dataframe\">\n",
       "  <thead>\n",
       "    <tr style=\"text-align: right;\">\n",
       "      <th></th>\n",
       "      <th>time</th>\n",
       "      <th>activity</th>\n",
       "      <th>lmaxact</th>\n",
       "    </tr>\n",
       "    <tr>\n",
       "      <th>clocktime</th>\n",
       "      <th></th>\n",
       "      <th></th>\n",
       "      <th></th>\n",
       "    </tr>\n",
       "  </thead>\n",
       "  <tbody>\n",
       "    <tr>\n",
       "      <th>0.000000</th>\n",
       "      <td>2019-05-03 00:00:30</td>\n",
       "      <td>147.0</td>\n",
       "      <td>2.170262</td>\n",
       "    </tr>\n",
       "    <tr>\n",
       "      <th>0.016667</th>\n",
       "      <td>2019-05-03 00:01:30</td>\n",
       "      <td>152.0</td>\n",
       "      <td>2.184691</td>\n",
       "    </tr>\n",
       "    <tr>\n",
       "      <th>0.033333</th>\n",
       "      <td>2019-05-03 00:02:30</td>\n",
       "      <td>75.0</td>\n",
       "      <td>1.880814</td>\n",
       "    </tr>\n",
       "    <tr>\n",
       "      <th>0.050000</th>\n",
       "      <td>2019-05-03 00:03:30</td>\n",
       "      <td>157.0</td>\n",
       "      <td>2.198657</td>\n",
       "    </tr>\n",
       "    <tr>\n",
       "      <th>0.066667</th>\n",
       "      <td>2019-05-03 00:04:30</td>\n",
       "      <td>104.0</td>\n",
       "      <td>2.021189</td>\n",
       "    </tr>\n",
       "    <tr>\n",
       "      <th>...</th>\n",
       "      <td>...</td>\n",
       "      <td>...</td>\n",
       "      <td>...</td>\n",
       "    </tr>\n",
       "    <tr>\n",
       "      <th>23.916667</th>\n",
       "      <td>2019-05-02 23:55:30</td>\n",
       "      <td>118.0</td>\n",
       "      <td>2.075547</td>\n",
       "    </tr>\n",
       "    <tr>\n",
       "      <th>23.933333</th>\n",
       "      <td>2019-05-02 23:56:30</td>\n",
       "      <td>94.0</td>\n",
       "      <td>1.977724</td>\n",
       "    </tr>\n",
       "    <tr>\n",
       "      <th>23.950000</th>\n",
       "      <td>2019-05-02 23:57:30</td>\n",
       "      <td>118.0</td>\n",
       "      <td>2.075547</td>\n",
       "    </tr>\n",
       "    <tr>\n",
       "      <th>23.966667</th>\n",
       "      <td>2019-05-02 23:58:30</td>\n",
       "      <td>133.0</td>\n",
       "      <td>2.127105</td>\n",
       "    </tr>\n",
       "    <tr>\n",
       "      <th>23.983333</th>\n",
       "      <td>2019-05-02 23:59:30</td>\n",
       "      <td>118.0</td>\n",
       "      <td>2.075547</td>\n",
       "    </tr>\n",
       "  </tbody>\n",
       "</table>\n",
       "<p>1440 rows × 3 columns</p>\n",
       "</div>"
      ],
      "text/plain": [
       "                          time  activity   lmaxact\n",
       "clocktime                                         \n",
       "0.000000   2019-05-03 00:00:30     147.0  2.170262\n",
       "0.016667   2019-05-03 00:01:30     152.0  2.184691\n",
       "0.033333   2019-05-03 00:02:30      75.0  1.880814\n",
       "0.050000   2019-05-03 00:03:30     157.0  2.198657\n",
       "0.066667   2019-05-03 00:04:30     104.0  2.021189\n",
       "...                        ...       ...       ...\n",
       "23.916667  2019-05-02 23:55:30     118.0  2.075547\n",
       "23.933333  2019-05-02 23:56:30      94.0  1.977724\n",
       "23.950000  2019-05-02 23:57:30     118.0  2.075547\n",
       "23.966667  2019-05-02 23:58:30     133.0  2.127105\n",
       "23.983333  2019-05-02 23:59:30     118.0  2.075547\n",
       "\n",
       "[1440 rows x 3 columns]"
      ]
     },
     "execution_count": 55,
     "metadata": {},
     "output_type": "execute_result"
    }
   ],
   "source": [
    "act"
   ]
  },
  {
   "cell_type": "code",
   "execution_count": 56,
   "metadata": {},
   "outputs": [],
   "source": [
    "def antilogfx(t, actmin, amp, alpha, beta, phi):\n",
    "    # takes 5 x: min, amp, alpha, beta, phi\n",
    "    c = np.cos((t - phi) * (2*np.pi/24))\n",
    "    return actmin + amp*((np.exp(beta * (c - alpha)))/(1 + np.exp(beta * (c - alpha))))"
   ]
  },
  {
   "cell_type": "code",
   "execution_count": 57,
   "metadata": {},
   "outputs": [],
   "source": [
    "from scipy.optimize import curve_fit\n",
    "from scipy.optimize import Bounds"
   ]
  },
  {
   "cell_type": "code",
   "execution_count": 58,
   "metadata": {},
   "outputs": [
    {
     "data": {
      "text/plain": [
       "[0.11495149956431,\n",
       " 1.1202066228596599,\n",
       " -0.756888733320116,\n",
       " 3.53102546343027,\n",
       " 12.1030770805243]"
      ]
     },
     "execution_count": 58,
     "metadata": {},
     "output_type": "execute_result"
    }
   ],
   "source": [
    "cr[cr['record_id'] == subject][['actmin', 'actamp', 'actalph', 'actbeta', 'actphi']].values.tolist()[0]"
   ]
  },
  {
   "cell_type": "code",
   "execution_count": 59,
   "metadata": {},
   "outputs": [],
   "source": [
    "y_fit = antilogfx(x_act, 0.0769933554092863,\n",
    " 1.0,\n",
    " -0.921034160375523,\n",
    " 4.015655046645279,\n",
    " 15.706432915450598)\n",
    "\n",
    "\n",
    "bounds = ([-np.inf, 0, -np.inf, 0, 0], [2, 1.9, np.inf, np.inf, 24])\n",
    "antilog_act, antilog_act_cov = curve_fit(antilogfx, xdata = x_act, ydata = y_act, bounds = bounds)\n",
    "y_fit_py = antilogfx(x_act, *antilog_act)"
   ]
  },
  {
   "cell_type": "code",
   "execution_count": 60,
   "metadata": {},
   "outputs": [
    {
     "data": {
      "text/plain": [
       "([], <a list of 0 Text major ticklabel objects>)"
      ]
     },
     "execution_count": 60,
     "metadata": {},
     "output_type": "execute_result"
    },
    {
     "data": {
      "image/png": "[encoded data removed]",
      "text/plain": [
       "<Figure size 432x288 with 1 Axes>"
      ]
     },
     "metadata": {
      "needs_background": "light"
     },
     "output_type": "display_data"
    }
   ],
   "source": [
    "plt.plot(x_act, y_act, color = \"gray\", linewidth = 0.7)\n",
    "plt.plot(x_act, y_fit, color = \"black\", linewidth = 5)\n",
    "plt.xlabel('$t$')\n",
    "plt.ylabel('LMAXACT')\n",
    "plt.yticks([])"
   ]
  },
  {
   "cell_type": "code",
   "execution_count": 61,
   "metadata": {},
   "outputs": [
    {
     "data": {
      "image/png": "[encoded data removed]",
      "text/plain": [
       "<Figure size 432x288 with 1 Axes>"
      ]
     },
     "metadata": {
      "needs_background": "light"
     },
     "output_type": "display_data"
    }
   ],
   "source": [
    "plt.plot(x_act, y_act, label='Actiwatch Raw', color = \"darkgray\", linewidth = 0.7)\n",
    "plt.plot(x_act, y_fit_py, label='Cosinor Model', linewidth = 6, color = \"black\")\n",
    "\n",
    "plt.xlabel('$t$')\n",
    "plt.ylabel('LMAXACT')\n",
    "plt.yticks([])\n",
    "plt.savefig(fname=\"/Users/megmcmahon/Desktop/%s.png\" % subject, dpi=400)"
   ]
  },
  {
   "cell_type": "code",
   "execution_count": 210,
   "metadata": {},
   "outputs": [
    {
     "data": {
      "text/plain": [
       "['Solarize_Light2',\n",
       " '_classic_test_patch',\n",
       " 'bmh',\n",
       " 'classic',\n",
       " 'dark_background',\n",
       " 'fast',\n",
       " 'fivethirtyeight',\n",
       " 'ggplot',\n",
       " 'grayscale',\n",
       " 'seaborn',\n",
       " 'seaborn-bright',\n",
       " 'seaborn-colorblind',\n",
       " 'seaborn-dark',\n",
       " 'seaborn-dark-palette',\n",
       " 'seaborn-darkgrid',\n",
       " 'seaborn-deep',\n",
       " 'seaborn-muted',\n",
       " 'seaborn-notebook',\n",
       " 'seaborn-paper',\n",
       " 'seaborn-pastel',\n",
       " 'seaborn-poster',\n",
       " 'seaborn-talk',\n",
       " 'seaborn-ticks',\n",
       " 'seaborn-white',\n",
       " 'seaborn-whitegrid',\n",
       " 'tableau-colorblind10']"
      ]
     },
     "execution_count": 210,
     "metadata": {},
     "output_type": "execute_result"
    }
   ],
   "source": [
    "plt.style.available"
   ]
  },
  {
   "cell_type": "code",
   "execution_count": 211,
   "metadata": {},
   "outputs": [
    {
     "data": {
      "text/plain": [
       "array([ 0.74102601,  1.9       , -1.10623008,  9.89787049, 12.04599   ])"
      ]
     },
     "execution_count": 211,
     "metadata": {},
     "output_type": "execute_result"
    }
   ],
   "source": [
    "antilog_act"
   ]
  },
  {
   "cell_type": "code",
   "execution_count": null,
   "metadata": {},
   "outputs": [],
   "source": []
  },
  {
   "cell_type": "code",
   "execution_count": 222,
   "metadata": {},
   "outputs": [
    {
     "data": {
      "text/plain": [
       "14    30274\n",
       "33    40629\n",
       "44    30412\n",
       "50    40825\n",
       "70    40170\n",
       "79    30581\n",
       "Name: record_id, dtype: int64"
      ]
     },
     "execution_count": 222,
     "metadata": {},
     "output_type": "execute_result"
    }
   ],
   "source": [
    "cr['record_id'][cr['actamp'] == cr['actamp'].min()]"
   ]
  },
  {
   "cell_type": "code",
   "execution_count": null,
   "metadata": {},
   "outputs": [],
   "source": []
  }
 ],
 "metadata": {
  "kernelspec": {
   "display_name": "Python 3",
   "language": "python",
   "name": "python3"
  },
  "language_info": {
   "codemirror_mode": {
    "name": "ipython",
    "version": 3
   },
   "file_extension": ".py",
   "mimetype": "text/x-python",
   "name": "python",
   "nbconvert_exporter": "python",
   "pygments_lexer": "ipython3",
   "version": "3.7.5"
  }
 },
 "nbformat": 4,
 "nbformat_minor": 2
}
