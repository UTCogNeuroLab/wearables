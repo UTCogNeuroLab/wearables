{
 "cells": [
  {
   "cell_type": "markdown",
   "metadata": {},
   "source": [
    "# Analysis of Fitbit Charge 2 HR for Sleep and Activity Monitoring"
   ]
  },
  {
   "cell_type": "markdown",
   "metadata": {},
   "source": [
    "## Preprocessing"
   ]
  },
  {
   "cell_type": "code",
   "execution_count": 1,
   "metadata": {},
   "outputs": [],
   "source": [
    "from pathlib import Path\n",
    "import os\n",
    "import glob\n",
    "import numpy as np\n",
    "import pandas as pd\n",
    "%matplotlib inline\n",
    "import matplotlib.pyplot as plt\n",
    "import seaborn as sns\n",
    "sns.set()"
   ]
  },
  {
   "cell_type": "code",
   "execution_count": 2,
   "metadata": {},
   "outputs": [],
   "source": [
    "sr = '1T' # 1 minute, downsampling Actiwatch from 30 s to 1 min\n",
    "recording_period_min = [7, 10]\n",
    "interpolate_limit = 10 # 10 minute limit"
   ]
  },
  {
   "cell_type": "code",
   "execution_count": 3,
   "metadata": {},
   "outputs": [],
   "source": [
    "home_dir = str(Path.home())\n",
    "data_dir = os.path.join(home_dir, 'Box/CogNeuroLab/Wearables/data/')\n",
    "\n",
    "act_files = glob.glob(data_dir + 'actiwatch/act_files/*New_Analysis.csv')\n",
    "fit_files = glob.glob(data_dir + 'fitbit/*minuteStepsNarrow*.csv')"
   ]
  },
  {
   "cell_type": "code",
   "execution_count": 4,
   "metadata": {
    "scrolled": true
   },
   "outputs": [
    {
     "data": {
      "text/plain": [
       "['/Users/megmcmahon/Box/CogNeuroLab/Wearables/data/fitbit/WA_10011_minuteStepsNarrow.csv',\n",
       " '/Users/megmcmahon/Box/CogNeuroLab/Wearables/data/fitbit/WA_10011_minuteStepsNarrow_20190901_20201020.csv',\n",
       " '/Users/megmcmahon/Box/CogNeuroLab/Wearables/data/fitbit/WA_10012_minuteStepsNarrow_20190901_20201020.csv',\n",
       " '/Users/megmcmahon/Box/CogNeuroLab/Wearables/data/fitbit/WA_10014_minuteStepsNarrow_20190901_20201020.csv',\n",
       " '/Users/megmcmahon/Box/CogNeuroLab/Wearables/data/fitbit/WA_10016_minuteStepsNarrow_20190901_20201020.csv',\n",
       " '/Users/megmcmahon/Box/CogNeuroLab/Wearables/data/fitbit/WA_10023_minuteStepsNarrow.csv',\n",
       " '/Users/megmcmahon/Box/CogNeuroLab/Wearables/data/fitbit/WA_10023_minuteStepsNarrow_20190901_20201020.csv',\n",
       " '/Users/megmcmahon/Box/CogNeuroLab/Wearables/data/fitbit/WA_10024_minuteStepsNarrow_20190901_20201020.csv',\n",
       " '/Users/megmcmahon/Box/CogNeuroLab/Wearables/data/fitbit/WA_10025_minuteStepsNarrow_20190901_20201020.csv',\n",
       " '/Users/megmcmahon/Box/CogNeuroLab/Wearables/data/fitbit/WA_10033_minuteStepsNarrow_20190901_20201020.csv',\n",
       " '/Users/megmcmahon/Box/CogNeuroLab/Wearables/data/fitbit/WA_10035_minuteStepsNarrow_20190901_20201020.csv',\n",
       " '/Users/megmcmahon/Box/CogNeuroLab/Wearables/data/fitbit/WA_10038_minuteStepsNarrow_20190901_20201020.csv',\n",
       " '/Users/megmcmahon/Box/CogNeuroLab/Wearables/data/fitbit/WA_10040_minuteStepsNarrow_20190901_20201020.csv',\n",
       " '/Users/megmcmahon/Box/CogNeuroLab/Wearables/data/fitbit/WA_10045_minuteStepsNarrow.csv',\n",
       " '/Users/megmcmahon/Box/CogNeuroLab/Wearables/data/fitbit/WA_10045_minuteStepsNarrow_20190901_20201020.csv',\n",
       " '/Users/megmcmahon/Box/CogNeuroLab/Wearables/data/fitbit/WA_10049_minuteStepsNarrow_20190901_20201020.csv',\n",
       " '/Users/megmcmahon/Box/CogNeuroLab/Wearables/data/fitbit/WA_10062_minuteStepsNarrow_20190901_20201020.csv',\n",
       " '/Users/megmcmahon/Box/CogNeuroLab/Wearables/data/fitbit/WA_10076_minuteStepsNarrow_20190901_20201020.csv',\n",
       " '/Users/megmcmahon/Box/CogNeuroLab/Wearables/data/fitbit/WA_10139_minuteStepsNarrow_20190901_20201020.csv',\n",
       " '/Users/megmcmahon/Box/CogNeuroLab/Wearables/data/fitbit/WA_10140_minuteStepsNarrow_20190901_20201020.csv',\n",
       " '/Users/megmcmahon/Box/CogNeuroLab/Wearables/data/fitbit/WA_10143_minuteStepsNarrow_20190901_20201020.csv',\n",
       " '/Users/megmcmahon/Box/CogNeuroLab/Wearables/data/fitbit/WA_10144_minuteStepsNarrow_20190901_20201020.csv',\n",
       " '/Users/megmcmahon/Box/CogNeuroLab/Wearables/data/fitbit/WA_10145_minuteStepsNarrow_20190901_20201020.csv',\n",
       " '/Users/megmcmahon/Box/CogNeuroLab/Wearables/data/fitbit/WA_10146_minuteStepsNarrow_20190901_20201020.csv',\n",
       " '/Users/megmcmahon/Box/CogNeuroLab/Wearables/data/fitbit/WA_10147_minuteStepsNarrow_20190901_20201020.csv',\n",
       " '/Users/megmcmahon/Box/CogNeuroLab/Wearables/data/fitbit/WA_10148_minuteStepsNarrow_20190901_20201020.csv',\n",
       " '/Users/megmcmahon/Box/CogNeuroLab/Wearables/data/fitbit/WA_10149_minuteStepsNarrow_20190901_20201020.csv',\n",
       " '/Users/megmcmahon/Box/CogNeuroLab/Wearables/data/fitbit/WA_10150_minuteStepsNarrow_20190901_20201020.csv',\n",
       " '/Users/megmcmahon/Box/CogNeuroLab/Wearables/data/fitbit/WA_10151_minuteStepsNarrow.csv',\n",
       " '/Users/megmcmahon/Box/CogNeuroLab/Wearables/data/fitbit/WA_10152_minuteStepsNarrow.csv',\n",
       " '/Users/megmcmahon/Box/CogNeuroLab/Wearables/data/fitbit/WA_10159_minuteStepsNarrow_20190901_20201020.csv',\n",
       " '/Users/megmcmahon/Box/CogNeuroLab/Wearables/data/fitbit/WA_20076_minuteStepsNarrow.csv',\n",
       " '/Users/megmcmahon/Box/CogNeuroLab/Wearables/data/fitbit/WA_20103_minuteStepsNarrow_20190901_20201020.csv',\n",
       " '/Users/megmcmahon/Box/CogNeuroLab/Wearables/data/fitbit/WA_20105_minuteStepsNarrow.csv',\n",
       " '/Users/megmcmahon/Box/CogNeuroLab/Wearables/data/fitbit/WA_20105_minuteStepsNarrow_20190901_20201020.csv',\n",
       " '/Users/megmcmahon/Box/CogNeuroLab/Wearables/data/fitbit/WA_20108_minuteStepsNarrow_20190901_20201020.csv',\n",
       " '/Users/megmcmahon/Box/CogNeuroLab/Wearables/data/fitbit/WA_20113_minuteStepsNarrow_20190901_20201020.csv',\n",
       " '/Users/megmcmahon/Box/CogNeuroLab/Wearables/data/fitbit/WA_20115_minuteStepsNarrow_20190901_20201020.csv',\n",
       " '/Users/megmcmahon/Box/CogNeuroLab/Wearables/data/fitbit/WA_20120_minuteStepsNarrow_20190901_20201020.csv',\n",
       " '/Users/megmcmahon/Box/CogNeuroLab/Wearables/data/fitbit/WA_20122_minuteStepsNarrow_20190901_20201020.csv',\n",
       " '/Users/megmcmahon/Box/CogNeuroLab/Wearables/data/fitbit/WA_20123_minuteStepsNarrow_20190901_20201020.csv',\n",
       " '/Users/megmcmahon/Box/CogNeuroLab/Wearables/data/fitbit/WA_20124_minuteStepsNarrow_20190901_20201020.csv',\n",
       " '/Users/megmcmahon/Box/CogNeuroLab/Wearables/data/fitbit/WA_20125_minuteStepsNarrow_20190901_20201020.csv',\n",
       " '/Users/megmcmahon/Box/CogNeuroLab/Wearables/data/fitbit/WA_20127_minuteStepsNarrow_20190901_20201020.csv',\n",
       " '/Users/megmcmahon/Box/CogNeuroLab/Wearables/data/fitbit/WA_20129_minuteStepsNarrow_20190901_20201020.csv',\n",
       " '/Users/megmcmahon/Box/CogNeuroLab/Wearables/data/fitbit/WA_20131_minuteStepsNarrow_20190901_20201020.csv',\n",
       " '/Users/megmcmahon/Box/CogNeuroLab/Wearables/data/fitbit/WA_20142_minuteStepsNarrow_20190901_20201020.csv',\n",
       " '/Users/megmcmahon/Box/CogNeuroLab/Wearables/data/fitbit/WA_20154_minuteStepsNarrow_20190901_20201020.csv',\n",
       " '/Users/megmcmahon/Box/CogNeuroLab/Wearables/data/fitbit/WA_20155_minuteStepsNarrow_20190901_20201020.csv',\n",
       " '/Users/megmcmahon/Box/CogNeuroLab/Wearables/data/fitbit/WA_20157_minuteStepsNarrow_20190901_20201020.csv',\n",
       " '/Users/megmcmahon/Box/CogNeuroLab/Wearables/data/fitbit/WA_20163_minuteStepsNarrow.csv',\n",
       " '/Users/megmcmahon/Box/CogNeuroLab/Wearables/data/fitbit/WA_20168_minuteStepsNarrow.csv']"
      ]
     },
     "execution_count": 4,
     "metadata": {},
     "output_type": "execute_result"
    }
   ],
   "source": [
    "fit_files"
   ]
  },
  {
   "cell_type": "code",
   "execution_count": 5,
   "metadata": {
    "scrolled": true
   },
   "outputs": [
    {
     "data": {
      "text/plain": [
       "['/Users/megmcmahon/Box/CogNeuroLab/Wearables/data/actiwatch/act_files/10011_10_24_2019_4_30_00_PM_New_Analysis.csv',\n",
       " '/Users/megmcmahon/Box/CogNeuroLab/Wearables/data/actiwatch/act_files/10011_11_30_2020_9_00_00_AM_New_Analysis.csv',\n",
       " '/Users/megmcmahon/Box/CogNeuroLab/Wearables/data/actiwatch/act_files/10012_10_18_2019_3_30_00_PM_New_Analysis.csv',\n",
       " '/Users/megmcmahon/Box/CogNeuroLab/Wearables/data/actiwatch/act_files/10014_11_11_2019_5_20_00_PM_New_Analysis.csv',\n",
       " '/Users/megmcmahon/Box/CogNeuroLab/Wearables/data/actiwatch/act_files/10016_1_24_2020_11_45_00_AM_New_Analysis.csv',\n",
       " '/Users/megmcmahon/Box/CogNeuroLab/Wearables/data/actiwatch/act_files/10023_11_11_2019_1_50_00_PM_New_Analysis.csv',\n",
       " '/Users/megmcmahon/Box/CogNeuroLab/Wearables/data/actiwatch/act_files/10023_11_25_2020_12_00_00_PM_New_Analysis.csv',\n",
       " '/Users/megmcmahon/Box/CogNeuroLab/Wearables/data/actiwatch/act_files/10024_11_5_2019_3_15_00_PM_New_Analysis.csv',\n",
       " '/Users/megmcmahon/Box/CogNeuroLab/Wearables/data/actiwatch/act_files/10025_12_5_2019_2_15_00_PM_New_Analysis.csv',\n",
       " '/Users/megmcmahon/Box/CogNeuroLab/Wearables/data/actiwatch/act_files/10033_11_7_2019_2_50_00_PM_New_Analysis.csv',\n",
       " '/Users/megmcmahon/Box/CogNeuroLab/Wearables/data/actiwatch/act_files/10035_2_7_2020_2_45_00_PM_New_Analysis.csv',\n",
       " '/Users/megmcmahon/Box/CogNeuroLab/Wearables/data/actiwatch/act_files/10038_1_22_2020_9_45_00_PM_New_Analysis.csv',\n",
       " '/Users/megmcmahon/Box/CogNeuroLab/Wearables/data/actiwatch/act_files/10040_1_29_2020_1_45_00_PM_New_Analysis.csv',\n",
       " '/Users/megmcmahon/Box/CogNeuroLab/Wearables/data/actiwatch/act_files/10045_11_20_2020_12_00_00_PM_New_Analysis.csv',\n",
       " '/Users/megmcmahon/Box/CogNeuroLab/Wearables/data/actiwatch/act_files/10045_12_4_2019_11_45_00_AM_New_Analysis.csv',\n",
       " '/Users/megmcmahon/Box/CogNeuroLab/Wearables/data/actiwatch/act_files/10049_12_2_2019_10_45_00_AM_New_Analysis.csv',\n",
       " '/Users/megmcmahon/Box/CogNeuroLab/Wearables/data/actiwatch/act_files/10062_1_27_2020_1_45_00_PM_New_Analysis.csv',\n",
       " '/Users/megmcmahon/Box/CogNeuroLab/Wearables/data/actiwatch/act_files/10076_11_8_2019_11_45_00_PM_New_Analysis.csv',\n",
       " '/Users/megmcmahon/Box/CogNeuroLab/Wearables/data/actiwatch/act_files/10139_8_11_2020_9_30_00_AM_New_Analysis.csv',\n",
       " '/Users/megmcmahon/Box/CogNeuroLab/Wearables/data/actiwatch/act_files/10140_8_25_2020_10_37_00_AM_New_Analysis.csv',\n",
       " '/Users/megmcmahon/Box/CogNeuroLab/Wearables/data/actiwatch/act_files/10143_8_27_2020_5_00_00_PM_New_Analysis.csv',\n",
       " '/Users/megmcmahon/Box/CogNeuroLab/Wearables/data/actiwatch/act_files/10144_8_25_2020_10_00_00_AM_New_Analysis.csv',\n",
       " '/Users/megmcmahon/Box/CogNeuroLab/Wearables/data/actiwatch/act_files/10145_8_27_2020_4_30_00_PM_New_Analysis.csv',\n",
       " '/Users/megmcmahon/Box/CogNeuroLab/Wearables/data/actiwatch/act_files/10146_8_28_2020_10_22_00_AM_New_Analysis.csv',\n",
       " '/Users/megmcmahon/Box/CogNeuroLab/Wearables/data/actiwatch/act_files/10147_9_10_2020_9_00_00_AM_New_Analysis.csv',\n",
       " '/Users/megmcmahon/Box/CogNeuroLab/Wearables/data/actiwatch/act_files/10148_9_10_2020_9_00_00_AM_New_Analysis.csv',\n",
       " '/Users/megmcmahon/Box/CogNeuroLab/Wearables/data/actiwatch/act_files/10149_8_28_2020_4_00_00_PM_New_Analysis.csv',\n",
       " '/Users/megmcmahon/Box/CogNeuroLab/Wearables/data/actiwatch/act_files/10150_9_18_2020_12_30_00_PM_New_Analysis.csv',\n",
       " '/Users/megmcmahon/Box/CogNeuroLab/Wearables/data/actiwatch/act_files/10152_11_30_2020_9_00_00_AM_New_Analysis.csv',\n",
       " '/Users/megmcmahon/Box/CogNeuroLab/Wearables/data/actiwatch/act_files/20076_11_25_2020_9_00_00_AM_New_Analysis.csv',\n",
       " '/Users/megmcmahon/Box/CogNeuroLab/Wearables/data/actiwatch/act_files/20076_11_8_2019_11_45_00_PM_New_Analysis.csv',\n",
       " '/Users/megmcmahon/Box/CogNeuroLab/Wearables/data/actiwatch/act_files/20103_2_20_2020_4_45_00_PM_New_Analysis.csv',\n",
       " '/Users/megmcmahon/Box/CogNeuroLab/Wearables/data/actiwatch/act_files/20105_11_30_2020_9_00_00_AM_New_Analysis.csv',\n",
       " '/Users/megmcmahon/Box/CogNeuroLab/Wearables/data/actiwatch/act_files/20105_2_20_2020_1_45_00_PM_New_Analysis.csv',\n",
       " '/Users/megmcmahon/Box/CogNeuroLab/Wearables/data/actiwatch/act_files/20108_2_25_2020_4_45_00_PM_New_Analysis.csv',\n",
       " '/Users/megmcmahon/Box/CogNeuroLab/Wearables/data/actiwatch/act_files/20113_2_28_2020_2_15_00_PM_New_Analysis.csv',\n",
       " '/Users/megmcmahon/Box/CogNeuroLab/Wearables/data/actiwatch/act_files/20115_3_12_2020_2_40_00_PM_New_Analysis.csv',\n",
       " '/Users/megmcmahon/Box/CogNeuroLab/Wearables/data/actiwatch/act_files/20120_7_30_2020_8_00_00_AM_New_Analysis.csv',\n",
       " '/Users/megmcmahon/Box/CogNeuroLab/Wearables/data/actiwatch/act_files/20122_7_24_2020_4_30_00_PM_New_Analysis.csv',\n",
       " '/Users/megmcmahon/Box/CogNeuroLab/Wearables/data/actiwatch/act_files/20123_7_30_2020_9_00_00_AM_New_Analysis.csv',\n",
       " '/Users/megmcmahon/Box/CogNeuroLab/Wearables/data/actiwatch/act_files/20124_7_30_2020_9_08_00_AM_New_Analysis.csv',\n",
       " '/Users/megmcmahon/Box/CogNeuroLab/Wearables/data/actiwatch/act_files/20125_7_24_2020_4_30_00_PM_New_Analysis.csv',\n",
       " '/Users/megmcmahon/Box/CogNeuroLab/Wearables/data/actiwatch/act_files/20127_8_4_2020_8_01_00_AM_New_Analysis.csv',\n",
       " '/Users/megmcmahon/Box/CogNeuroLab/Wearables/data/actiwatch/act_files/20129_8_4_2020_8_06_00_AM_New_Analysis.csv',\n",
       " '/Users/megmcmahon/Box/CogNeuroLab/Wearables/data/actiwatch/act_files/20131_8_12_2020_5_00_00_PM_New_Analysis.csv',\n",
       " '/Users/megmcmahon/Box/CogNeuroLab/Wearables/data/actiwatch/act_files/20142_10_8_2020_2_00_00_PM_New_Analysis.csv',\n",
       " '/Users/megmcmahon/Box/CogNeuroLab/Wearables/data/actiwatch/act_files/20154_10_5_2020_12_00_00_PM_New_Analysis.csv',\n",
       " '/Users/megmcmahon/Box/CogNeuroLab/Wearables/data/actiwatch/act_files/20155_10_8_2020_2_30_00_PM_New_Analysis.csv',\n",
       " '/Users/megmcmahon/Box/CogNeuroLab/Wearables/data/actiwatch/act_files/20157_10_8_2020_7_00_00_AM_New_Analysis.csv',\n",
       " '/Users/megmcmahon/Box/CogNeuroLab/Wearables/data/actiwatch/act_files/20163_11_3_2020_7_00_00_PM_New_Analysis.csv',\n",
       " '/Users/megmcmahon/Box/CogNeuroLab/Wearables/data/actiwatch/act_files/20168_11_25_2020_8_00_00_PM_New_Analysis.csv',\n",
       " '/Users/megmcmahon/Box/CogNeuroLab/Wearables/data/actiwatch/act_files/20176_11_30_2020_9_00_00_AM_New_Analysis.csv',\n",
       " '/Users/megmcmahon/Box/CogNeuroLab/Wearables/data/actiwatch/act_files/20177_12_5_2020_11_00_00_AM_New_Analysis.csv',\n",
       " '/Users/megmcmahon/Box/CogNeuroLab/Wearables/data/actiwatch/act_files/20178_12_2_2020_10_02_00_AM_New_Analysis.csv',\n",
       " '/Users/megmcmahon/Box/CogNeuroLab/Wearables/data/actiwatch/act_files/20180_12_7_2020_9_00_00_AM_New_Analysis.csv',\n",
       " '/Users/megmcmahon/Box/CogNeuroLab/Wearables/data/actiwatch/act_files/20181_12_7_2020_9_00_00_AM_New_Analysis.csv',\n",
       " '/Users/megmcmahon/Box/CogNeuroLab/Wearables/data/actiwatch/act_files/20182_11_30_2020_9_00_00_AM_New_Analysis.csv',\n",
       " '/Users/megmcmahon/Box/CogNeuroLab/Wearables/data/actiwatch/act_files/20184_12_11_2020_10_45_00_AM_New_Analysis.csv']"
      ]
     },
     "execution_count": 5,
     "metadata": {},
     "output_type": "execute_result"
    }
   ],
   "source": [
    "act_files"
   ]
  },
  {
   "cell_type": "code",
   "execution_count": 6,
   "metadata": {},
   "outputs": [],
   "source": [
    "act = {}"
   ]
  },
  {
   "cell_type": "code",
   "execution_count": 7,
   "metadata": {
    "scrolled": true
   },
   "outputs": [
    {
     "name": "stdout",
     "output_type": "stream",
     "text": [
      "successfully read Actiware data file\n",
      "record 10011\n",
      "----- saving\n",
      "----- success: 0 percent NaN, 13 days 23:59:00 recording period\n",
      "successfully read Actiware data file\n",
      "record 10011\n",
      "----- saving\n",
      "----- success: 0 percent NaN, 13 days 23:59:00 recording period\n",
      "successfully read Actiware data file\n",
      "record 10011\n",
      "----- saving\n",
      "----- success: 0 percent NaN, 14 days 00:00:00 recording period\n",
      "successfully read Actiware data file\n",
      "record 10011\n",
      "----- saving\n",
      "----- success: 0 percent NaN, 14 days 00:00:00 recording period\n",
      "successfully read Actiware data file\n",
      "record 10012\n",
      "----- saving\n",
      "----- success: 0 percent NaN, 13 days 19:40:00 recording period\n",
      "successfully read Actiware data file\n",
      "record 10012\n",
      "----- saving\n",
      "----- success: 0 percent NaN, 13 days 19:40:00 recording period\n"
     ]
    }
   ],
   "source": [
    "from wearables import preproc\n",
    "\n",
    "out_dir = os.path.join(data_dir, 'actiwatch')\n",
    "\n",
    "for in_file in act_files[0:3]:\n",
    "    \n",
    "    record_id = str.split(in_file, \"/\")[-1][0:5]\n",
    "    \n",
    "    if record_id in act:\n",
    "        record_id = record_id + '_repeat'\n",
    "\n",
    "    act[record_id] = {}\n",
    "\n",
    "    for ndays in recording_period_min:\n",
    "        if in_file.endswith('.csv'):\n",
    "            act[record_id][str(ndays)] = preproc.preproc(in_file, out_dir, 'actiwatch', sr, ndays, interpolate_limit, truncate=True, write=False)\n",
    "            np.save(data_dir + '/actiwatch/act_preproc.npy', act)"
   ]
  },
  {
   "cell_type": "code",
   "execution_count": null,
   "metadata": {},
   "outputs": [],
   "source": [
    "fit = {}"
   ]
  },
  {
   "cell_type": "code",
   "execution_count": null,
   "metadata": {
    "scrolled": true
   },
   "outputs": [],
   "source": [
    "fit_files"
   ]
  },
  {
   "cell_type": "code",
   "execution_count": null,
   "metadata": {},
   "outputs": [],
   "source": [
    "from wearables import preproc\n",
    "\n",
    "out_dir = os.path.join(data_dir, 'fitbit')\n",
    "\n",
    "for in_file in fit_files:\n",
    "    record_id = str.split(in_file, \"/\")[-1][3:8]\n",
    "    print(record_id)\n",
    "    \n",
    "    if record_id in fit:\n",
    "        record_id = record_id + '_repeat'\n",
    "        \n",
    "    fit[str(record_id)] = {}\n",
    "\n",
    "    for ndays in recording_period_min:\n",
    "        if in_file.endswith('.csv'):\n",
    "            fit[str(record_id)][str(ndays)] = preproc.preproc(in_file, out_dir, 'fitbit', sr, ndays, interpolate_limit, truncate=True, write=False)\n",
    "            np.save(data_dir + '/fitbit/fit_preproc.npy', fit)"
   ]
  },
  {
   "cell_type": "markdown",
   "metadata": {},
   "source": [
    "### Plot preprocessed data"
   ]
  },
  {
   "cell_type": "code",
   "execution_count": 9,
   "metadata": {},
   "outputs": [],
   "source": [
    "act = np.load(data_dir + '/actiwatch/act_preproc.npy', allow_pickle=True)[()]\n",
    "fit = np.load(data_dir + '/fitbit/fit_preproc.npy', allow_pickle=True)[()]"
   ]
  },
  {
   "cell_type": "code",
   "execution_count": 20,
   "metadata": {},
   "outputs": [
    {
     "data": {
      "text/plain": [
       "(array([737360.5, 737361. , 737361.5, 737362. , 737362.5, 737363. ,\n",
       "        737363.5, 737364. , 737364.5]),\n",
       " <a list of 9 Text major ticklabel objects>)"
      ]
     },
     "execution_count": 20,
     "metadata": {},
     "output_type": "execute_result"
    },
    {
     "data": {
      "image/png": "[encoded data removed]",
      "text/plain": [
       "<Figure size 432x288 with 1 Axes>"
      ]
     },
     "metadata": {
      "needs_background": "light"
     },
     "output_type": "display_data"
    }
   ],
   "source": [
    "plt.scatter(act['10012']['10'].index, act['10012']['10'])\n",
    "plt.title('10011' + ', 10 days')\n",
    "plt.xticks(rotation=90)"
   ]
  },
  {
   "cell_type": "code",
   "execution_count": null,
   "metadata": {},
   "outputs": [],
   "source": [
    "for record_id in act.keys():\n",
    "    for ndays in act[record_id].keys():\n",
    "        try:\n",
    "            plt.scatter(act[record_id][ndays].index, act[record_id][ndays])\n",
    "            plt.title(record_id + ', ' + ndays + ' days')\n",
    "            plt.savefig(data_dir + 'actiwatch/figures/' + record_id + '_' + ndays + 'd_preproc_scatter.png', dpi = 300)\n",
    "            plt.clf()\n",
    "        except Exception as e:\n",
    "            print(e)"
   ]
  },
  {
   "cell_type": "markdown",
   "metadata": {},
   "source": [
    "### Try out shifting data with large missing chunks"
   ]
  },
  {
   "cell_type": "code",
   "execution_count": null,
   "metadata": {},
   "outputs": [],
   "source": [
    "act['10014']['10'].shift()"
   ]
  },
  {
   "cell_type": "markdown",
   "metadata": {},
   "source": [
    "## Cosinor Analysis\n",
    "\n",
    "Load saved npy files to save time."
   ]
  },
  {
   "cell_type": "code",
   "execution_count": 8,
   "metadata": {},
   "outputs": [],
   "source": [
    "act = np.load(data_dir + '/actiwatch/act_preproc.npy', allow_pickle=True)[()]\n",
    "fit = np.load(data_dir + '/fitbit/fit_preproc.npy', allow_pickle=True)[()]"
   ]
  },
  {
   "cell_type": "code",
   "execution_count": null,
   "metadata": {
    "scrolled": true
   },
   "outputs": [],
   "source": [
    "act"
   ]
  },
  {
   "cell_type": "code",
   "execution_count": null,
   "metadata": {},
   "outputs": [],
   "source": [
    "fit['20120']"
   ]
  },
  {
   "cell_type": "code",
   "execution_count": null,
   "metadata": {},
   "outputs": [],
   "source": [
    "cr_measures = ['actmin', 'amp', 'alpha', 'beta', 'phi']\n",
    "cols = [col + \"_\" + str(ndays) for ndays in recording_period_min for col in cr_measures]"
   ]
  },
  {
   "cell_type": "code",
   "execution_count": null,
   "metadata": {},
   "outputs": [],
   "source": [
    "str.split(act_files[2], \"/\")[-1]"
   ]
  },
  {
   "cell_type": "code",
   "execution_count": null,
   "metadata": {},
   "outputs": [],
   "source": [
    "from wearables import fitcosinor\n",
    "\n",
    "cr_act = pd.DataFrame(index = list(act.keys()), columns = cols)\n",
    "#index = [str.split(in_file, \"/\")[-1][0:5] for in_file in act_files]\n",
    "for record_id in act.keys():\n",
    "    print(record_id)\n",
    "    for ndays in act[record_id].keys():\n",
    "        try:\n",
    "            cr_act.loc[record_id][\"actmin_\" + str(ndays) : \"phi_\" + str(ndays)] = fitcosinor.fitcosinor(act[record_id][str(ndays)], transform = 'antilogistic')[0].values[0]\n",
    "        except Exception as e:\n",
    "            print(e)\n"
   ]
  },
  {
   "cell_type": "code",
   "execution_count": null,
   "metadata": {},
   "outputs": [],
   "source": [
    "cr_act"
   ]
  },
  {
   "cell_type": "code",
   "execution_count": null,
   "metadata": {},
   "outputs": [],
   "source": [
    "cr_act.to_csv(data_dir + '/actiwatch/cr_act.csv')"
   ]
  },
  {
   "cell_type": "code",
   "execution_count": null,
   "metadata": {},
   "outputs": [],
   "source": [
    "from wearables import fitcosinor\n",
    "\n",
    "cr_fit = pd.DataFrame(index = list(fit.keys()), columns = cols)\n",
    "#[str.split(in_file, \"/\")[-1][3:8] for in_file in fit_files]\n",
    "for record_id in fit.keys():\n",
    "    print(record_id)\n",
    "    for ndays in fit[record_id].keys():\n",
    "        try:\n",
    "            cr_fit.loc[record_id][\"actmin_\" + str(ndays) : \"phi_\" + str(ndays)] = fitcosinor.fitcosinor(fit[record_id][str(ndays)], transform = 'antilogistic')[0].values[0]\n",
    "        except Exception as e:\n",
    "            print(e)\n"
   ]
  },
  {
   "cell_type": "code",
   "execution_count": null,
   "metadata": {},
   "outputs": [],
   "source": [
    "cr_fit"
   ]
  },
  {
   "cell_type": "code",
   "execution_count": null,
   "metadata": {},
   "outputs": [],
   "source": [
    "cr_fit.to_csv(data_dir + '/fitbit/cr_fit.csv')"
   ]
  },
  {
   "cell_type": "markdown",
   "metadata": {},
   "source": [
    "## Visualize model fit"
   ]
  },
  {
   "cell_type": "code",
   "execution_count": null,
   "metadata": {},
   "outputs": [],
   "source": [
    "%matplotlib inline\n",
    "import matplotlib.pyplot as plt\n",
    "import numpy as np\n",
    "from wearables import plotcosinor\n",
    "import seaborn as sns\n",
    "sns.set()\n",
    "\n",
    "d = np.load('/Users/megmcmahon/Box/CogNeuroLab/Wearables/data/actiwatch/act_preproc.npy', allow_pickle=True)[()]['10011']['10']\n",
    "d1 = np.load('/Users/megmcmahon/Box/CogNeuroLab/Wearables/data/fitbit/fit_preproc.npy', allow_pickle=True)[()]['10011']['10']\n",
    "plotcosinor.plotcosinor(d, 'antilogistic', 'Actiwatch 2.0')\n",
    "plotcosinor.plotcosinor(d1, 'antilogistic', 'Actiwatch 2.0')\n",
    "\n",
    "\n"
   ]
  },
  {
   "cell_type": "markdown",
   "metadata": {},
   "source": [
    "## How much do cosinor measures vary as a function of recording period?"
   ]
  },
  {
   "cell_type": "code",
   "execution_count": null,
   "metadata": {},
   "outputs": [],
   "source": [
    "df = pd.read_csv('/Users/megmcmahon/Box/CogNeuroLab/Wearables/data/sleeptime_efficiency_device.csv')\n",
    "df.set_index('subject')\n",
    "df"
   ]
  },
  {
   "cell_type": "code",
   "execution_count": null,
   "metadata": {},
   "outputs": [],
   "source": [
    "cr_act = pd.read_csv(data_dir + 'actiwatch/cr_act.csv')\n",
    "cr_fit = pd.read_csv(data_dir + 'fitbit/cr_fit.csv')\n",
    "cr_fit = cr_fit.join(df[['subject', 'fitbit']])\n",
    "cr_fit['device'] = cr_fit['fitbit']\n",
    "cr_fit\n",
    "cr_act['device'] = 'Actiwatch 2.0'\n",
    "df1 = pd.concat((cr_act, cr_fit))\n",
    "df1['subject'] = df1['Unnamed: 0']\n",
    "df1 = df1.set_index('subject').drop(['Unnamed: 0', 'fitbit'], axis = 1)"
   ]
  },
  {
   "cell_type": "code",
   "execution_count": null,
   "metadata": {},
   "outputs": [],
   "source": [
    "df1"
   ]
  },
  {
   "cell_type": "code",
   "execution_count": null,
   "metadata": {},
   "outputs": [],
   "source": [
    "cr_act.filter(regex=(\"actmin.*\")).mean()"
   ]
  },
  {
   "cell_type": "code",
   "execution_count": null,
   "metadata": {},
   "outputs": [],
   "source": [
    "df1.columns[~df1.columns.str.contains('subject|device')]"
   ]
  },
  {
   "cell_type": "code",
   "execution_count": null,
   "metadata": {},
   "outputs": [],
   "source": [
    "dfmelt = pd.melt(df1.reset_index(), id_vars=['subject','device'], value_vars=df1.columns[~df1.columns.str.contains('subject|device')])\n",
    "dfmelt['n_days'] = dfmelt['variable'].str.split('_').str[1]\n",
    "dfmelt['variable'] = dfmelt['variable'].str.split('_').str[0]\n",
    "dfmelt"
   ]
  },
  {
   "cell_type": "code",
   "execution_count": null,
   "metadata": {},
   "outputs": [],
   "source": [
    "df2 = dfmelt.pivot_table(index=['subject', 'device', 'n_days'], \n",
    "                    columns='variable', \n",
    "                    values='value').reset_index().set_index('subject')\n",
    "df2"
   ]
  },
  {
   "cell_type": "code",
   "execution_count": null,
   "metadata": {},
   "outputs": [],
   "source": [
    "import matplotlib.pyplot as plt\n",
    "import seaborn as sns\n",
    "\n",
    "fig, ax = plt.subplots(5, 1, sharey=False, sharex=False, figsize = (10, 25))\n",
    "fig.suptitle('Rest-Activity Measures as Function of Number of Days Actigraphy', fontsize = 20, y=.91)\n",
    "\n",
    "sns.lineplot(x = 'n_days', y = 'amp', hue = 'device', data = df2, ax = ax[0], ci = None, marker = 'o', palette = 'Set1').set(xlabel = 'Days of Actigraphy', ylabel = 'Amplitude')\n",
    "sns.lineplot(x = 'n_days', y = 'phi', hue = 'device', data = df2, ax = ax[1], ci = None, marker = 'o', palette = 'Set1').set(xlabel = 'Days of Actigraphy', ylabel = 'Acrophase')\n",
    "sns.lineplot(x = 'n_days', y = 'actmin', hue = 'device', data = df2, ax = ax[2], ci = None, marker = 'o', palette = 'Set1').set(xlabel = 'Days of Actigraphy', ylabel = 'Minimum')\n",
    "sns.lineplot(x = 'n_days', y = 'alpha', hue = 'device', data = df2, ax = ax[3], ci = None, marker = 'o', palette = 'Set1').set(xlabel = 'Days of Actigraphy', ylabel = 'Width')\n",
    "sns.lineplot(x = 'n_days', y = 'beta', hue = 'device', data = df2, ax = ax[4], ci = None, marker = 'o', palette = 'Set1').set(xlabel = 'Days of Actigraphy', ylabel = 'Slope')\n"
   ]
  },
  {
   "cell_type": "code",
   "execution_count": null,
   "metadata": {},
   "outputs": [],
   "source": [
    "dfmelt"
   ]
  },
  {
   "cell_type": "code",
   "execution_count": null,
   "metadata": {},
   "outputs": [],
   "source": [
    "dfmelt['variable'].str.split('_')[1][1]"
   ]
  },
  {
   "cell_type": "code",
   "execution_count": null,
   "metadata": {},
   "outputs": [],
   "source": [
    "import matplotlib.pyplot as plt\n",
    "\n",
    "fig, ax = plt.subplots(5, 1, sharey=False, sharex=False, figsize = (10, 25))\n",
    "fig.suptitle('Rest-Activity Measures as Function of Number of Days Actigraphy', fontsize = 20, y=0.89)\n",
    "\n",
    "ax[0].plot(recording_period_min, cr_act.filter(regex=(\"actmin.*\")).mean(), '-o', linewidth = 4, label = 'Actiwatch 2.0')\n",
    "ax[0].plot(recording_period_min, cr_fit.filter(regex=(\"actmin.*\")).mean(), '-o', linewidth = 4, label = 'Fitbit Charge 2 HR')\n",
    "ax[0].set_title(\"Minimum\")\n",
    "ax[0].set_ylim(0,2)\n",
    "ax[0].legend()\n",
    "\n",
    "ax[1].plot(recording_period_min, cr_act.filter(regex=(\"amp.*\")).mean(), '-o', linewidth = 4, label = 'Actiwatch 2.0')\n",
    "ax[1].plot(recording_period_min, cr_fit.filter(regex=(\"amp.*\")).mean(), '-o', linewidth = 4, label = 'Fitbit Charge 2 HR')\n",
    "ax[1].set_title(\"Amplitude\")\n",
    "ax[1].set_ylim(0,2)\n",
    "ax[1].legend()\n",
    "\n",
    "ax[2].plot(recording_period_min, cr_act.filter(regex=(\"alpha.*\")).mean(), '-o', linewidth = 4, label = 'Actiwatch 2.0')\n",
    "ax[2].plot(recording_period_min, cr_fit.filter(regex=(\"alpha.*\")).mean(), '-o', linewidth = 4, label = 'Fitbit Charge 2 HR')\n",
    "ax[2].set_title(\"Alpha (Width)\")\n",
    "ax[2].legend()\n",
    "\n",
    "ax[3].plot(recording_period_min, cr_act.filter(regex=(\"beta.*\")).mean(), '-o', linewidth = 4, label = 'Actiwatch 2.0')\n",
    "ax[3].plot(recording_period_min, cr_fit.filter(regex=(\"beta.*\")).mean(), '-o', linewidth = 4, label = 'Fitbit Charge 2 HR')\n",
    "ax[3].set_title(\"Beta (Slope)\")\n",
    "ax[3].legend()\n",
    "\n",
    "ax[4].plot(recording_period_min, cr_act.filter(regex=(\"phi.*\")).mean(), '-o', linewidth = 4, label = 'Actiwatch 2.0')\n",
    "ax[4].plot(recording_period_min, cr_fit.filter(regex=(\"phi.*\")).mean(), '-o', linewidth = 4, label = 'Fitbit Charge 2 HR')\n",
    "ax[4].set_title(\"Phi (Acrophase)\")\n",
    "ax[4].legend()\n",
    "\n",
    "ax[4].set_xlabel('Number of Days', fontsize=16)\n",
    "\n",
    "plt.subplots_adjust(top=0.85)\n",
    "\n"
   ]
  },
  {
   "cell_type": "code",
   "execution_count": null,
   "metadata": {},
   "outputs": [],
   "source": []
  }
 ],
 "metadata": {
  "kernelspec": {
   "display_name": "Python 3",
   "language": "python",
   "name": "python3"
  },
  "language_info": {
   "codemirror_mode": {
    "name": "ipython",
    "version": 3
   },
   "file_extension": ".py",
   "mimetype": "text/x-python",
   "name": "python",
   "nbconvert_exporter": "python",
   "pygments_lexer": "ipython3",
   "version": "3.7.5"
  }
 },
 "nbformat": 4,
 "nbformat_minor": 2
}
