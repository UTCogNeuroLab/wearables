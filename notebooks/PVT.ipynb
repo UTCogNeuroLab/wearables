{
 "cells": [
  {
   "cell_type": "markdown",
   "metadata": {},
   "source": [
    "# PVT"
   ]
  },
  {
   "cell_type": "code",
   "execution_count": 7,
   "metadata": {},
   "outputs": [],
   "source": [
    "import numpy as np\n",
    "import pandas as pd\n",
    "from pathlib import Path\n",
    "import os\n",
    "import glob\n"
   ]
  },
  {
   "cell_type": "code",
   "execution_count": 5,
   "metadata": {},
   "outputs": [],
   "source": [
    "home_dir = str(Path.home())\n",
    "data_dir = os.path.join(home_dir, 'Box/CogNeuroLab/Wearables/data/')"
   ]
  },
  {
   "cell_type": "code",
   "execution_count": 93,
   "metadata": {
    "scrolled": true
   },
   "outputs": [
    {
     "data": {
      "text/plain": [
       "['/Users/megmcmahon/Box/CogNeuroLab/Wearables/data/PVT/10011/20191024_1719_001/data.raw',\n",
       " '/Users/megmcmahon/Box/CogNeuroLab/Wearables/data/PVT/10012/20191018_1623_001/data.raw',\n",
       " '/Users/megmcmahon/Box/CogNeuroLab/Wearables/data/PVT/10014/20191111_1747_001/data.raw',\n",
       " '/Users/megmcmahon/Box/CogNeuroLab/Wearables/data/PVT/10023/20191111_1434_001/data.raw',\n",
       " '/Users/megmcmahon/Box/CogNeuroLab/Wearables/data/PVT/10024/20191105_1549_001/data.raw',\n",
       " '/Users/megmcmahon/Box/CogNeuroLab/Wearables/data/PVT/10025/20191205_1456_001/data.raw',\n",
       " '/Users/megmcmahon/Box/CogNeuroLab/Wearables/data/PVT/10033/20191107_1526_001/data.raw',\n",
       " '/Users/megmcmahon/Box/CogNeuroLab/Wearables/data/PVT/10035/20200207_1535_001/data.raw',\n",
       " '/Users/megmcmahon/Box/CogNeuroLab/Wearables/data/PVT/10038/20200122_1029_001/data.raw',\n",
       " '/Users/megmcmahon/Box/CogNeuroLab/Wearables/data/PVT/10045/20191204_1234_001/data.raw',\n",
       " '/Users/megmcmahon/Box/CogNeuroLab/Wearables/data/PVT/10049/20191202_1143_002/data.raw',\n",
       " '/Users/megmcmahon/Box/CogNeuroLab/Wearables/data/PVT/10057/20200130_1258_001/data.raw',\n",
       " '/Users/megmcmahon/Box/CogNeuroLab/Wearables/data/PVT/10057/20200203_1026_002/data.raw',\n",
       " '/Users/megmcmahon/Box/CogNeuroLab/Wearables/data/PVT/10062/20200127_1432_001/data.raw',\n",
       " '/Users/megmcmahon/Box/CogNeuroLab/Wearables/data/PVT/10076/20191108_1222_001/data.raw',\n",
       " '/Users/megmcmahon/Box/CogNeuroLab/Wearables/data/PVT/20103/20200220_1735_001/data.raw',\n",
       " '/Users/megmcmahon/Box/CogNeuroLab/Wearables/data/PVT/20105/20200220_1436_001/data.raw',\n",
       " '/Users/megmcmahon/Box/CogNeuroLab/Wearables/data/PVT/20108/20200225_1731_001/data.raw',\n",
       " '/Users/megmcmahon/Box/CogNeuroLab/Wearables/data/PVT/20113/20200228_1505_001/data.raw',\n",
       " '/Users/megmcmahon/Box/CogNeuroLab/Wearables/data/PVT/20115/20200312_1548_001/data.raw']"
      ]
     },
     "execution_count": 93,
     "metadata": {},
     "output_type": "execute_result"
    }
   ],
   "source": [
    "pvt_files = glob.glob(data_dir + 'PVT/*/*/data.raw')\n",
    "pvt_files_remote = glob.glob(data_dir + 'PVT/PVT_remote/*.csv')\n",
    "pvt_files"
   ]
  },
  {
   "cell_type": "code",
   "execution_count": 125,
   "metadata": {},
   "outputs": [
    {
     "data": {
      "text/html": [
       "<div>\n",
       "<style scoped>\n",
       "    .dataframe tbody tr th:only-of-type {\n",
       "        vertical-align: middle;\n",
       "    }\n",
       "\n",
       "    .dataframe tbody tr th {\n",
       "        vertical-align: top;\n",
       "    }\n",
       "\n",
       "    .dataframe thead th {\n",
       "        text-align: right;\n",
       "    }\n",
       "</style>\n",
       "<table border=\"1\" class=\"dataframe\">\n",
       "  <thead>\n",
       "    <tr style=\"text-align: right;\">\n",
       "      <th></th>\n",
       "      <th>id</th>\n",
       "      <th>isi</th>\n",
       "      <th>it</th>\n",
       "      <th>sp</th>\n",
       "      <th>st</th>\n",
       "      <th>rt</th>\n",
       "      <th>err</th>\n",
       "      <th>bp</th>\n",
       "      <th>fs</th>\n",
       "      <th>nr</th>\n",
       "    </tr>\n",
       "  </thead>\n",
       "  <tbody>\n",
       "    <tr>\n",
       "      <th>13</th>\n",
       "      <td>13.0</td>\n",
       "      <td>7.428</td>\n",
       "      <td>70.478172</td>\n",
       "      <td>0.0</td>\n",
       "      <td>0.0</td>\n",
       "      <td>73.146568</td>\n",
       "      <td>0.0</td>\n",
       "      <td>0.0</td>\n",
       "      <td>1.0</td>\n",
       "      <td>0.0</td>\n",
       "    </tr>\n",
       "    <tr>\n",
       "      <th>66</th>\n",
       "      <td>66.0</td>\n",
       "      <td>8.102</td>\n",
       "      <td>418.190979</td>\n",
       "      <td>0.0</td>\n",
       "      <td>0.0</td>\n",
       "      <td>426.351471</td>\n",
       "      <td>0.0</td>\n",
       "      <td>0.0</td>\n",
       "      <td>1.0</td>\n",
       "      <td>0.0</td>\n",
       "    </tr>\n",
       "  </tbody>\n",
       "</table>\n",
       "</div>"
      ],
      "text/plain": [
       "      id    isi          it   sp   st          rt  err   bp   fs   nr\n",
       "13  13.0  7.428   70.478172  0.0  0.0   73.146568  0.0  0.0  1.0  0.0\n",
       "66  66.0  8.102  418.190979  0.0  0.0  426.351471  0.0  0.0  1.0  0.0"
      ]
     },
     "execution_count": 125,
     "metadata": {},
     "output_type": "execute_result"
    }
   ],
   "source": [
    "pvt = pd.read_csv(pvt_files[3], sep = \",\", header = 0, names = ['id', 'isi', 'it', 'sp', 'st', 'rt', 'err', 'bp', 'fs', 'nr'], dtype = 'float')\n",
    "pvt[pvt['fs'] == 1]"
   ]
  },
  {
   "cell_type": "code",
   "execution_count": 169,
   "metadata": {},
   "outputs": [],
   "source": [
    "def response_time(pvt, version):\n",
    "    \n",
    "    conditions = [\n",
    "            (pvt['fs'] == 1),\n",
    "            (pvt['nr'] == 1),\n",
    "            (pvt['fs'] == 0) & (pvt['nr'] == 0)\n",
    "        ]\n",
    "    \n",
    "    if version == 'inlab':\n",
    "        values = [ 1, 65000, (pvt['rt'] - pvt['st']) ] # returns RT in seconds\n",
    "    elif version == 'online':\n",
    "        values = [ 1, 65000, pvt['Response.rt'] ] # returns RT in seconds\n",
    "    else:\n",
    "        print('invalid PVT version')\n",
    "\n",
    "    pvt['RT'] = np.select(conditions, values)\n",
    "        \n",
    "    return pvt\n",
    "\n",
    "def no_response(pvt_remote):\n",
    "    pvt['nr'] = np.where(pvt['Response.rt'] > pvt['Interval_stimulus'], 1.0, 0.0)\n",
    "    \n",
    "    return pvt\n",
    "\n",
    "def false_start(pvt_remote):\n",
    "    pvt['fs'] = np.where(pvt['key_resp.keys'].isnull(), 0.0, 1.0)\n",
    "    \n",
    "    return pvt"
   ]
  },
  {
   "cell_type": "code",
   "execution_count": 170,
   "metadata": {},
   "outputs": [
    {
     "data": {
      "text/html": [
       "<div>\n",
       "<style scoped>\n",
       "    .dataframe tbody tr th:only-of-type {\n",
       "        vertical-align: middle;\n",
       "    }\n",
       "\n",
       "    .dataframe tbody tr th {\n",
       "        vertical-align: top;\n",
       "    }\n",
       "\n",
       "    .dataframe thead th {\n",
       "        text-align: right;\n",
       "    }\n",
       "</style>\n",
       "<table border=\"1\" class=\"dataframe\">\n",
       "  <thead>\n",
       "    <tr style=\"text-align: right;\">\n",
       "      <th></th>\n",
       "      <th>record_id</th>\n",
       "      <th>RT</th>\n",
       "      <th>FS</th>\n",
       "      <th>NR</th>\n",
       "    </tr>\n",
       "  </thead>\n",
       "  <tbody>\n",
       "    <tr>\n",
       "      <th>0</th>\n",
       "      <td>10011</td>\n",
       "      <td>0.287571</td>\n",
       "      <td>0.0</td>\n",
       "      <td>0.0</td>\n",
       "    </tr>\n",
       "    <tr>\n",
       "      <th>1</th>\n",
       "      <td>10012</td>\n",
       "      <td>0.292187</td>\n",
       "      <td>3.0</td>\n",
       "      <td>0.0</td>\n",
       "    </tr>\n",
       "    <tr>\n",
       "      <th>2</th>\n",
       "      <td>10014</td>\n",
       "      <td>0.343802</td>\n",
       "      <td>6.0</td>\n",
       "      <td>0.0</td>\n",
       "    </tr>\n",
       "    <tr>\n",
       "      <th>3</th>\n",
       "      <td>10023</td>\n",
       "      <td>0.295579</td>\n",
       "      <td>2.0</td>\n",
       "      <td>0.0</td>\n",
       "    </tr>\n",
       "    <tr>\n",
       "      <th>4</th>\n",
       "      <td>10024</td>\n",
       "      <td>0.286903</td>\n",
       "      <td>1.0</td>\n",
       "      <td>0.0</td>\n",
       "    </tr>\n",
       "    <tr>\n",
       "      <th>5</th>\n",
       "      <td>10025</td>\n",
       "      <td>0.245413</td>\n",
       "      <td>1.0</td>\n",
       "      <td>0.0</td>\n",
       "    </tr>\n",
       "    <tr>\n",
       "      <th>6</th>\n",
       "      <td>10033</td>\n",
       "      <td>0.343700</td>\n",
       "      <td>0.0</td>\n",
       "      <td>0.0</td>\n",
       "    </tr>\n",
       "    <tr>\n",
       "      <th>7</th>\n",
       "      <td>10035</td>\n",
       "      <td>0.267186</td>\n",
       "      <td>1.0</td>\n",
       "      <td>0.0</td>\n",
       "    </tr>\n",
       "    <tr>\n",
       "      <th>8</th>\n",
       "      <td>10038</td>\n",
       "      <td>0.270828</td>\n",
       "      <td>2.0</td>\n",
       "      <td>0.0</td>\n",
       "    </tr>\n",
       "    <tr>\n",
       "      <th>9</th>\n",
       "      <td>10045</td>\n",
       "      <td>0.443086</td>\n",
       "      <td>1.0</td>\n",
       "      <td>0.0</td>\n",
       "    </tr>\n",
       "    <tr>\n",
       "      <th>10</th>\n",
       "      <td>10049</td>\n",
       "      <td>0.280655</td>\n",
       "      <td>3.0</td>\n",
       "      <td>0.0</td>\n",
       "    </tr>\n",
       "    <tr>\n",
       "      <th>11</th>\n",
       "      <td>10057</td>\n",
       "      <td>0.303964</td>\n",
       "      <td>3.0</td>\n",
       "      <td>0.0</td>\n",
       "    </tr>\n",
       "    <tr>\n",
       "      <th>12</th>\n",
       "      <td>10057</td>\n",
       "      <td>0.337248</td>\n",
       "      <td>5.0</td>\n",
       "      <td>0.0</td>\n",
       "    </tr>\n",
       "    <tr>\n",
       "      <th>13</th>\n",
       "      <td>10062</td>\n",
       "      <td>0.316575</td>\n",
       "      <td>1.0</td>\n",
       "      <td>0.0</td>\n",
       "    </tr>\n",
       "    <tr>\n",
       "      <th>14</th>\n",
       "      <td>10076</td>\n",
       "      <td>0.307053</td>\n",
       "      <td>2.0</td>\n",
       "      <td>0.0</td>\n",
       "    </tr>\n",
       "    <tr>\n",
       "      <th>15</th>\n",
       "      <td>20103</td>\n",
       "      <td>0.278884</td>\n",
       "      <td>5.0</td>\n",
       "      <td>0.0</td>\n",
       "    </tr>\n",
       "    <tr>\n",
       "      <th>16</th>\n",
       "      <td>20105</td>\n",
       "      <td>0.284249</td>\n",
       "      <td>1.0</td>\n",
       "      <td>0.0</td>\n",
       "    </tr>\n",
       "    <tr>\n",
       "      <th>17</th>\n",
       "      <td>20108</td>\n",
       "      <td>0.247912</td>\n",
       "      <td>1.0</td>\n",
       "      <td>0.0</td>\n",
       "    </tr>\n",
       "    <tr>\n",
       "      <th>18</th>\n",
       "      <td>20113</td>\n",
       "      <td>0.265601</td>\n",
       "      <td>0.0</td>\n",
       "      <td>0.0</td>\n",
       "    </tr>\n",
       "    <tr>\n",
       "      <th>19</th>\n",
       "      <td>20115</td>\n",
       "      <td>0.401950</td>\n",
       "      <td>6.0</td>\n",
       "      <td>0.0</td>\n",
       "    </tr>\n",
       "    <tr>\n",
       "      <th>20</th>\n",
       "      <td>test</td>\n",
       "      <td>0.336805</td>\n",
       "      <td>0.0</td>\n",
       "      <td>0.0</td>\n",
       "    </tr>\n",
       "    <tr>\n",
       "      <th>21</th>\n",
       "      <td>20122</td>\n",
       "      <td>0.338540</td>\n",
       "      <td>0.0</td>\n",
       "      <td>0.0</td>\n",
       "    </tr>\n",
       "    <tr>\n",
       "      <th>22</th>\n",
       "      <td>20125</td>\n",
       "      <td>802.881283</td>\n",
       "      <td>9.0</td>\n",
       "      <td>1.0</td>\n",
       "    </tr>\n",
       "    <tr>\n",
       "      <th>23</th>\n",
       "      <td>20120</td>\n",
       "      <td>0.311342</td>\n",
       "      <td>1.0</td>\n",
       "      <td>0.0</td>\n",
       "    </tr>\n",
       "    <tr>\n",
       "      <th>24</th>\n",
       "      <td>20123</td>\n",
       "      <td>65000.000000</td>\n",
       "      <td>0.0</td>\n",
       "      <td>13.0</td>\n",
       "    </tr>\n",
       "    <tr>\n",
       "      <th>25</th>\n",
       "      <td>20129</td>\n",
       "      <td>774.142121</td>\n",
       "      <td>3.0</td>\n",
       "      <td>1.0</td>\n",
       "    </tr>\n",
       "    <tr>\n",
       "      <th>26</th>\n",
       "      <td>20127</td>\n",
       "      <td>0.353400</td>\n",
       "      <td>0.0</td>\n",
       "      <td>0.0</td>\n",
       "    </tr>\n",
       "    <tr>\n",
       "      <th>27</th>\n",
       "      <td>10139</td>\n",
       "      <td>0.296260</td>\n",
       "      <td>1.0</td>\n",
       "      <td>0.0</td>\n",
       "    </tr>\n",
       "  </tbody>\n",
       "</table>\n",
       "</div>"
      ],
      "text/plain": [
       "   record_id            RT   FS    NR\n",
       "0      10011      0.287571  0.0   0.0\n",
       "1      10012      0.292187  3.0   0.0\n",
       "2      10014      0.343802  6.0   0.0\n",
       "3      10023      0.295579  2.0   0.0\n",
       "4      10024      0.286903  1.0   0.0\n",
       "5      10025      0.245413  1.0   0.0\n",
       "6      10033      0.343700  0.0   0.0\n",
       "7      10035      0.267186  1.0   0.0\n",
       "8      10038      0.270828  2.0   0.0\n",
       "9      10045      0.443086  1.0   0.0\n",
       "10     10049      0.280655  3.0   0.0\n",
       "11     10057      0.303964  3.0   0.0\n",
       "12     10057      0.337248  5.0   0.0\n",
       "13     10062      0.316575  1.0   0.0\n",
       "14     10076      0.307053  2.0   0.0\n",
       "15     20103      0.278884  5.0   0.0\n",
       "16     20105      0.284249  1.0   0.0\n",
       "17     20108      0.247912  1.0   0.0\n",
       "18     20113      0.265601  0.0   0.0\n",
       "19     20115      0.401950  6.0   0.0\n",
       "20      test      0.336805  0.0   0.0\n",
       "21     20122      0.338540  0.0   0.0\n",
       "22     20125    802.881283  9.0   1.0\n",
       "23     20120      0.311342  1.0   0.0\n",
       "24     20123  65000.000000  0.0  13.0\n",
       "25     20129    774.142121  3.0   1.0\n",
       "26     20127      0.353400  0.0   0.0\n",
       "27     10139      0.296260  1.0   0.0"
      ]
     },
     "execution_count": 170,
     "metadata": {},
     "output_type": "execute_result"
    }
   ],
   "source": [
    "pvt_results = []\n",
    "\n",
    "for file in pvt_files: \n",
    "    subid = file.split('/data/PVT/')[1][0:5]\n",
    "    pvt = pd.read_csv(file, sep = \",\", header = 0, names = ['id', 'isi', 'it', 'sp', 'st', 'rt', 'err', 'bp', 'fs', 'nr'], dtype = 'float')\n",
    "    pvt = response_time(pvt, 'inlab')\n",
    "    pvt_results.append([subid, pvt['RT'].mean(), pvt['fs'].sum(), pvt['nr'].sum()])\n",
    "    \n",
    "for file in pvt_files_remote: \n",
    "    pvt = pd.read_csv(file, sep = \",\")\n",
    "    subid = pvt['Participant ID'][0]\n",
    "    pvt = no_response(pvt)\n",
    "    pvt = false_start(pvt)\n",
    "    pvt = response_time(pvt, 'online')\n",
    "    pvt_results.append([subid, pvt['RT'].mean(), pvt['fs'].sum(), pvt['nr'].sum()])\n",
    "        \n",
    "pvt_results = pd.DataFrame(pvt_results, columns = ['record_id', 'RT', 'FS', 'NR'])\n",
    "pvt_results"
   ]
  },
  {
   "cell_type": "code",
   "execution_count": 171,
   "metadata": {},
   "outputs": [],
   "source": [
    "pvt_results.to_csv(data_dir + 'PVT/pvt_results.csv')"
   ]
  },
  {
   "cell_type": "code",
   "execution_count": 177,
   "metadata": {},
   "outputs": [
    {
     "data": {
      "text/plain": [
       "Text(0.5, 1.0, 'PVT Mean Response Time')"
      ]
     },
     "execution_count": 177,
     "metadata": {},
     "output_type": "execute_result"
    },
    {
     "data": {
      "image/png": "[encoded data removed]",
      "text/plain": [
       "<Figure size 432x288 with 1 Axes>"
      ]
     },
     "metadata": {
      "needs_background": "light"
     },
     "output_type": "display_data"
    }
   ],
   "source": [
    "import matplotlib.pyplot as plt\n",
    "%matplotlib inline\n",
    "\n",
    "plt.hist(pvt_results['RT'][pvt_results['RT'] < 0.65], bins=20)\n",
    "plt.title('PVT Mean Response Time')"
   ]
  },
  {
   "cell_type": "code",
   "execution_count": 178,
   "metadata": {},
   "outputs": [
    {
     "data": {
      "text/plain": [
       "Text(0.5, 1.0, 'PVT False Starts')"
      ]
     },
     "execution_count": 178,
     "metadata": {},
     "output_type": "execute_result"
    },
    {
     "data": {
      "image/png": "[encoded data removed]",
      "text/plain": [
       "<Figure size 432x288 with 1 Axes>"
      ]
     },
     "metadata": {
      "needs_background": "light"
     },
     "output_type": "display_data"
    }
   ],
   "source": [
    "plt.hist(pvt_results['FS'], bins=10) #excluding 20127 as outlier\n",
    "plt.title('PVT False Starts')"
   ]
  },
  {
   "cell_type": "code",
   "execution_count": 179,
   "metadata": {},
   "outputs": [
    {
     "data": {
      "text/plain": [
       "Text(0.5, 1.0, 'PVT No Responses')"
      ]
     },
     "execution_count": 179,
     "metadata": {},
     "output_type": "execute_result"
    },
    {
     "data": {
      "image/png": "[encoded data removed]",
      "text/plain": [
       "<Figure size 432x288 with 1 Axes>"
      ]
     },
     "metadata": {
      "needs_background": "light"
     },
     "output_type": "display_data"
    }
   ],
   "source": [
    "plt.hist(pvt_results['NR'], bins=5)\n",
    "plt.title('PVT No Responses')"
   ]
  },
  {
   "cell_type": "code",
   "execution_count": null,
   "metadata": {},
   "outputs": [],
   "source": []
  }
 ],
 "metadata": {
  "kernelspec": {
   "display_name": "Python 3",
   "language": "python",
   "name": "python3"
  },
  "language_info": {
   "codemirror_mode": {
    "name": "ipython",
    "version": 3
   },
   "file_extension": ".py",
   "mimetype": "text/x-python",
   "name": "python",
   "nbconvert_exporter": "python",
   "pygments_lexer": "ipython3",
   "version": "3.7.5"
  }
 },
 "nbformat": 4,
 "nbformat_minor": 2
}
